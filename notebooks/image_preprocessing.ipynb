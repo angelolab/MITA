{
 "cells": [
  {
   "cell_type": "code",
   "execution_count": 38,
   "id": "da035eb4-3b6b-49d3-8754-e527de98828c",
   "metadata": {
    "tags": []
   },
   "outputs": [],
   "source": [
    "#!/usr/bin/env python3\n",
    "\n",
    "from skimage import io\n",
    "from matplotlib import pyplot as plt\n",
    "import numpy as np\n",
    "from pixie_preprocessing import *\n",
    "from pixie_cluster_utils import *"
   ]
  },
  {
   "cell_type": "code",
   "execution_count": 2,
   "id": "97de5a4c-da8f-4e23-9988-3e343761402f",
   "metadata": {
    "tags": []
   },
   "outputs": [],
   "source": [
    "from PIL import Image\n",
    "from numpy import asarray\n",
    "import os\n",
    "import tifffile"
   ]
  },
  {
   "cell_type": "code",
   "execution_count": 3,
   "id": "14534083-c83b-493d-b1b9-42385284c196",
   "metadata": {
    "tags": []
   },
   "outputs": [
    {
     "name": "stdout",
     "output_type": "stream",
     "text": [
      "['Point102', 'Point103', 'Point104', 'Point105', 'Point106', 'Point107', 'Point108', 'Point109', 'Point110', 'Point112', 'Point113', 'Point114', 'Point115', 'Point116', 'Point117', 'Point118', 'Point119', 'Point124', 'Point125', 'Point126', 'Point127', 'Point128', 'Point129', 'Point130', 'Point136', 'Point137', 'Point138', 'Point139', 'Point140', 'Point141', 'Point16', 'Point17', 'Point18', 'Point19', 'Point20', 'Point21', 'Point24', 'Point25', 'Point26', 'Point27', 'Point28', 'Point29', 'Point3', 'Point30', 'Point36', 'Point37', 'Point38', 'Point39', 'Point4', 'Point40', 'Point41', 'Point42', 'Point43', 'Point44', 'Point45', 'Point46', 'Point47', 'Point48', 'Point49', 'Point5', 'Point50', 'Point51', 'Point52', 'Point53', 'Point54', 'Point56', 'Point57', 'Point58', 'Point59', 'Point60', 'Point61', 'Point62', 'Point63', 'Point64', 'Point65', 'Point66', 'Point67', 'Point68', 'Point69', 'Point70', 'Point71', 'Point72', 'Point73', 'Point74', 'Point75', 'Point76', 'Point77', 'Point79', 'Point80', 'Point81', 'Point82', 'Point83', 'Point84', 'Point85', 'Point86', 'Point87', 'Point88', 'Point89', 'Point90', 'Point91', 'Point92', 'Point93', 'Point94', 'Point95', 'Point96', 'Point97']\n"
     ]
    }
   ],
   "source": [
    "def get_directories(path):\n",
    "    directories = []\n",
    "    for entry in os.scandir(path):\n",
    "        if entry.is_dir():\n",
    "            directories.append(entry.name)\n",
    "    return directories\n",
    "\n",
    "# Example usage\n",
    "directory_path = 'Noise_rm_2'\n",
    "directories = get_directories(directory_path)\n",
    "print(directories)"
   ]
  },
  {
   "cell_type": "code",
   "execution_count": 4,
   "id": "13920ec8-082d-4567-9090-cfe76d17c8dc",
   "metadata": {
    "tags": []
   },
   "outputs": [],
   "source": [
    "def get_files(path):\n",
    "    files = []\n",
    "    for entry in os.scandir(path):\n",
    "        if entry.is_file():\n",
    "            files.append(entry.name)\n",
    "    return files"
   ]
  },
  {
   "cell_type": "code",
   "execution_count": 5,
   "id": "d3a838e9-f208-4c93-b897-d57adb82adde",
   "metadata": {
    "tags": []
   },
   "outputs": [],
   "source": [
    "directory_path = 'Noise_rm_2/Point3/TIFs'\n",
    "files = get_files(directory_path)"
   ]
  },
  {
   "cell_type": "code",
   "execution_count": 6,
   "id": "c26b1988-622d-45a7-a19a-30a468d49d8a",
   "metadata": {
    "tags": []
   },
   "outputs": [
    {
     "data": {
      "text/plain": [
       "['113_CD56.tif',\n",
       " '115_free_Indium115.tif',\n",
       " '120to126_Background.tif',\n",
       " '140_empty.tif',\n",
       " '141_APOE.tif',\n",
       " '142_Abeta40.tif',\n",
       " '143_CD14.tif',\n",
       " '144_CD16.tif',\n",
       " '145_CPT2.tif',\n",
       " '146_Abeta42.tif',\n",
       " '147_CD45.tif',\n",
       " '148_CD31_CD105.tif',\n",
       " '149_TSPO.tif',\n",
       " '150_polyUK48.tif',\n",
       " '151_P2RY12.tif',\n",
       " '152_TREM2.tif',\n",
       " '153_CD11c.tif',\n",
       " '154_pS6.tif',\n",
       " '155_MerTK.tif',\n",
       " '156_CD68.tif',\n",
       " '157_NEFL.tif',\n",
       " '158_CD74.tif',\n",
       " '159_NEFH.tif',\n",
       " '160_empty.tif',\n",
       " '161_VDAC1.tif',\n",
       " '162_GPNMB.tif',\n",
       " '163_FerritinL.tif',\n",
       " '164_Tmem119.tif',\n",
       " '165_MCNPase.tif',\n",
       " '166_VGLUT1.tif',\n",
       " '167_HLA-DR.tif',\n",
       " '168_MRP14.tif',\n",
       " '169_Iba1.tif',\n",
       " '170_MAP2.tif',\n",
       " '171_S100beta.tif',\n",
       " '172_8OHGuanosine.tif',\n",
       " '173_CD44.tif',\n",
       " '174_GFAP.tif',\n",
       " '175_Pan-Abeta.tif',\n",
       " '176_PHF-tau.tif',\n",
       " '181_Ta.tif',\n",
       " '197_Au.tif',\n",
       " '40_Ca.tif',\n",
       " '55_Mn.tif',\n",
       " '56_Fe.tif',\n",
       " '63_Cu.tif',\n",
       " '69_empty.tif',\n",
       " '71_empty.tif',\n",
       " '89_HH3.tif']"
      ]
     },
     "execution_count": 6,
     "metadata": {},
     "output_type": "execute_result"
    }
   ],
   "source": [
    "files"
   ]
  },
  {
   "cell_type": "code",
   "execution_count": 7,
   "id": "e0ff5cca-838f-4f4f-9feb-60e869b8771a",
   "metadata": {
    "tags": []
   },
   "outputs": [],
   "source": [
    "channel_norm = calculate_channel_percentiles(\"Noise_rm_2\", directories, files, \"TIFs\", 0.999)"
   ]
  },
  {
   "cell_type": "code",
   "execution_count": 8,
   "id": "c9fc1fd1-aca7-41a7-903e-4e34621c98a3",
   "metadata": {
    "tags": []
   },
   "outputs": [],
   "source": [
    "from pathlib import Path\n",
    "fov = [\"TIFs\"]\n",
    "files =[text.split(\".\") for text in files]"
   ]
  },
  {
   "cell_type": "code",
   "execution_count": 9,
   "id": "47cc334f-9ce1-441b-a667-ac0f0ff6d502",
   "metadata": {
    "tags": []
   },
   "outputs": [],
   "source": [
    "files = [text[0] for text in files]"
   ]
  },
  {
   "cell_type": "code",
   "execution_count": 10,
   "id": "ad0ace09-b284-4d96-ba00-4c10c9851f1a",
   "metadata": {
    "tags": []
   },
   "outputs": [
    {
     "data": {
      "text/plain": [
       "['113_CD56',\n",
       " '115_free_Indium115',\n",
       " '120to126_Background',\n",
       " '140_empty',\n",
       " '141_APOE',\n",
       " '142_Abeta40',\n",
       " '143_CD14',\n",
       " '144_CD16',\n",
       " '145_CPT2',\n",
       " '146_Abeta42',\n",
       " '147_CD45',\n",
       " '148_CD31_CD105',\n",
       " '149_TSPO',\n",
       " '150_polyUK48',\n",
       " '151_P2RY12',\n",
       " '152_TREM2',\n",
       " '153_CD11c',\n",
       " '154_pS6',\n",
       " '155_MerTK',\n",
       " '156_CD68',\n",
       " '157_NEFL',\n",
       " '158_CD74',\n",
       " '159_NEFH',\n",
       " '160_empty',\n",
       " '161_VDAC1',\n",
       " '162_GPNMB',\n",
       " '163_FerritinL',\n",
       " '164_Tmem119',\n",
       " '165_MCNPase',\n",
       " '166_VGLUT1',\n",
       " '167_HLA-DR',\n",
       " '168_MRP14',\n",
       " '169_Iba1',\n",
       " '170_MAP2',\n",
       " '171_S100beta',\n",
       " '172_8OHGuanosine',\n",
       " '173_CD44',\n",
       " '174_GFAP',\n",
       " '175_Pan-Abeta',\n",
       " '176_PHF-tau',\n",
       " '181_Ta',\n",
       " '197_Au',\n",
       " '40_Ca',\n",
       " '55_Mn',\n",
       " '56_Fe',\n",
       " '63_Cu',\n",
       " '69_empty',\n",
       " '71_empty',\n",
       " '89_HH3']"
      ]
     },
     "execution_count": 10,
     "metadata": {},
     "output_type": "execute_result"
    }
   ],
   "source": [
    "files"
   ]
  },
  {
   "cell_type": "code",
   "execution_count": 11,
   "id": "e578dc6f-5af8-4a7d-9163-fc61a0f23b1c",
   "metadata": {
    "tags": []
   },
   "outputs": [
    {
     "name": "stdout",
     "output_type": "stream",
     "text": [
      "Requirement already satisfied: tifffile in /usr/local/lib/python3.8/site-packages (2023.3.21)\n",
      "Requirement already satisfied: numpy in /usr/local/lib/python3.8/site-packages (from tifffile) (1.23.5)\n",
      "\u001b[33mWARNING: Running pip as the 'root' user can result in broken permissions and conflicting behaviour with the system package manager. It is recommended to use a virtual environment instead: https://pip.pypa.io/warnings/venv\u001b[0m\u001b[33m\n",
      "\u001b[0m\u001b[33mWARNING: You are using pip version 22.0.4; however, version 23.1.2 is available.\n",
      "You should consider upgrading via the '/usr/local/bin/python -m pip install --upgrade pip' command.\u001b[0m\u001b[33m\n",
      "\u001b[0m"
     ]
    }
   ],
   "source": [
    "!pip install tifffile"
   ]
  },
  {
   "cell_type": "code",
   "execution_count": 22,
   "id": "71c3677e-c6d5-46dc-abf2-e875173d93dc",
   "metadata": {
    "tags": []
   },
   "outputs": [
    {
     "data": {
      "text/html": [
       "<div>\n",
       "<style scoped>\n",
       "    .dataframe tbody tr th:only-of-type {\n",
       "        vertical-align: middle;\n",
       "    }\n",
       "\n",
       "    .dataframe tbody tr th {\n",
       "        vertical-align: top;\n",
       "    }\n",
       "\n",
       "    .dataframe thead th {\n",
       "        text-align: right;\n",
       "    }\n",
       "</style>\n",
       "<table border=\"1\" class=\"dataframe\">\n",
       "  <thead>\n",
       "    <tr style=\"text-align: right;\">\n",
       "      <th></th>\n",
       "      <th>113_CD56.tif</th>\n",
       "      <th>115_free_Indium115.tif</th>\n",
       "      <th>120to126_Background.tif</th>\n",
       "      <th>140_empty.tif</th>\n",
       "      <th>141_APOE.tif</th>\n",
       "      <th>142_Abeta40.tif</th>\n",
       "      <th>143_CD14.tif</th>\n",
       "      <th>144_CD16.tif</th>\n",
       "      <th>145_CPT2.tif</th>\n",
       "      <th>146_Abeta42.tif</th>\n",
       "      <th>...</th>\n",
       "      <th>176_PHF-tau.tif</th>\n",
       "      <th>181_Ta.tif</th>\n",
       "      <th>197_Au.tif</th>\n",
       "      <th>40_Ca.tif</th>\n",
       "      <th>55_Mn.tif</th>\n",
       "      <th>56_Fe.tif</th>\n",
       "      <th>63_Cu.tif</th>\n",
       "      <th>69_empty.tif</th>\n",
       "      <th>71_empty.tif</th>\n",
       "      <th>89_HH3.tif</th>\n",
       "    </tr>\n",
       "  </thead>\n",
       "  <tbody>\n",
       "    <tr>\n",
       "      <th>0</th>\n",
       "      <td>21.216981</td>\n",
       "      <td>71.903311</td>\n",
       "      <td>20.359575</td>\n",
       "      <td>8.455896</td>\n",
       "      <td>24.081509</td>\n",
       "      <td>17.214566</td>\n",
       "      <td>10.613038</td>\n",
       "      <td>7.184877</td>\n",
       "      <td>11.657094</td>\n",
       "      <td>47.156028</td>\n",
       "      <td>...</td>\n",
       "      <td>40.801726</td>\n",
       "      <td>116.688679</td>\n",
       "      <td>106.735849</td>\n",
       "      <td>70.775925</td>\n",
       "      <td>10.084821</td>\n",
       "      <td>77.610104</td>\n",
       "      <td>75.958236</td>\n",
       "      <td>9.578142</td>\n",
       "      <td>25.586594</td>\n",
       "      <td>79.078019</td>\n",
       "    </tr>\n",
       "  </tbody>\n",
       "</table>\n",
       "<p>1 rows × 49 columns</p>\n",
       "</div>"
      ],
      "text/plain": [
       "   113_CD56.tif  115_free_Indium115.tif  120to126_Background.tif  \\\n",
       "0     21.216981               71.903311                20.359575   \n",
       "\n",
       "   140_empty.tif  141_APOE.tif  142_Abeta40.tif  143_CD14.tif  144_CD16.tif  \\\n",
       "0       8.455896     24.081509        17.214566     10.613038      7.184877   \n",
       "\n",
       "   145_CPT2.tif  146_Abeta42.tif  ...  176_PHF-tau.tif  181_Ta.tif  \\\n",
       "0     11.657094        47.156028  ...        40.801726  116.688679   \n",
       "\n",
       "   197_Au.tif  40_Ca.tif  55_Mn.tif  56_Fe.tif  63_Cu.tif  69_empty.tif  \\\n",
       "0  106.735849  70.775925  10.084821  77.610104  75.958236      9.578142   \n",
       "\n",
       "   71_empty.tif  89_HH3.tif  \n",
       "0     25.586594   79.078019  \n",
       "\n",
       "[1 rows x 49 columns]"
      ]
     },
     "execution_count": 22,
     "metadata": {},
     "output_type": "execute_result"
    }
   ],
   "source": [
    "channel_norm"
   ]
  },
  {
   "cell_type": "code",
   "execution_count": 23,
   "id": "85d8d6f9-85c0-4ab5-87da-29d0b65b73c0",
   "metadata": {
    "tags": []
   },
   "outputs": [],
   "source": [
    "three_channel_norm = channel_norm[['159_NEFH.tif','169_Iba1.tif','174_GFAP.tif']]"
   ]
  },
  {
   "cell_type": "code",
   "execution_count": 24,
   "id": "39c552a2-a8de-45b1-889f-7c5bb7e22164",
   "metadata": {
    "tags": []
   },
   "outputs": [
    {
     "data": {
      "text/html": [
       "<div>\n",
       "<style scoped>\n",
       "    .dataframe tbody tr th:only-of-type {\n",
       "        vertical-align: middle;\n",
       "    }\n",
       "\n",
       "    .dataframe tbody tr th {\n",
       "        vertical-align: top;\n",
       "    }\n",
       "\n",
       "    .dataframe thead th {\n",
       "        text-align: right;\n",
       "    }\n",
       "</style>\n",
       "<table border=\"1\" class=\"dataframe\">\n",
       "  <thead>\n",
       "    <tr style=\"text-align: right;\">\n",
       "      <th></th>\n",
       "      <th>159_NEFH.tif</th>\n",
       "      <th>169_Iba1.tif</th>\n",
       "      <th>174_GFAP.tif</th>\n",
       "    </tr>\n",
       "  </thead>\n",
       "  <tbody>\n",
       "    <tr>\n",
       "      <th>0</th>\n",
       "      <td>12.995491</td>\n",
       "      <td>33.929274</td>\n",
       "      <td>15.711311</td>\n",
       "    </tr>\n",
       "  </tbody>\n",
       "</table>\n",
       "</div>"
      ],
      "text/plain": [
       "   159_NEFH.tif  169_Iba1.tif  174_GFAP.tif\n",
       "0     12.995491     33.929274     15.711311"
      ]
     },
     "execution_count": 24,
     "metadata": {},
     "output_type": "execute_result"
    }
   ],
   "source": [
    "three_channel_norm"
   ]
  },
  {
   "cell_type": "code",
   "execution_count": 59,
   "id": "d76e6271-114f-4554-a335-2bb360d18fb1",
   "metadata": {
    "tags": []
   },
   "outputs": [],
   "source": [
    "final_images = []"
   ]
  },
  {
   "cell_type": "code",
   "execution_count": 60,
   "id": "76fb036e-e9a9-4f2d-9809-5a5333e90943",
   "metadata": {},
   "outputs": [],
   "source": [
    "three_channels = ['159_NEFH','169_Iba1','174_GFAP']\n",
    "for directory in directories:\n",
    "    path = \"Noise_rm_2/\"+directory+\"/\"\n",
    "    img_xr = load_utils.load_imgs_from_tree(Path(path), fovs=[\"TIFs\"])\n",
    "    misc_utils.verify_in_list(\n",
    "        provided_chans=three_channels,\n",
    "        pixel_mat_chans=img_xr.channels.values\n",
    "    )\n",
    "    img_data = img_xr.loc[fov, :, :, three_channels].values.astype(np.float32)\n",
    "    # create vector for normalizing image data\n",
    "    norm_vect = three_channel_norm.iloc[0].values\n",
    "    norm_vect = np.array(norm_vect).reshape([1, 1, len(norm_vect)])\n",
    "\n",
    "    # normalize image data\n",
    "    img_data = img_data / norm_vect\n",
    "    img_data = np.squeeze(img_data)\n",
    "    M = 256\n",
    "    N = 256\n",
    "    tiles = [img_data[x:x+M,y:y+N] for x in range(0,img_data.shape[0],M) for y in range(0,img_data.shape[1],N)]\n",
    "    tile_coords = [(x,x+M,y,y+N) for x in range(0,img_data.shape[0],M) for y in range(0,img_data.shape[1],N)]\n",
    "    for i in range(len(tiles)):\n",
    "        final_images.append([directory, tiles[i], tile_coords[i]])"
   ]
  },
  {
   "cell_type": "code",
   "execution_count": 61,
   "id": "e1449f98-7321-4c6b-a8f6-d61197d2435c",
   "metadata": {
    "tags": []
   },
   "outputs": [
    {
     "name": "stdout",
     "output_type": "stream",
     "text": [
      "1696\n"
     ]
    }
   ],
   "source": [
    "print (len(final_images))"
   ]
  },
  {
   "cell_type": "code",
   "execution_count": 14,
   "id": "94475e72-0a45-45d9-908b-5d6525110fc1",
   "metadata": {
    "tags": []
   },
   "outputs": [
    {
     "data": {
      "text/plain": [
       "(1, 1024, 1024, 49)"
      ]
     },
     "execution_count": 14,
     "metadata": {},
     "output_type": "execute_result"
    }
   ],
   "source": [
    "img_data.shape"
   ]
  },
  {
   "cell_type": "code",
   "execution_count": null,
   "id": "e835c161-a5b6-4d2b-bc90-2d7edd034dfd",
   "metadata": {},
   "outputs": [],
   "source": [
    "img_data_1 = img_data.loc[fov, :, :, files].values.astype(np.float32)"
   ]
  }
 ],
 "metadata": {
  "kernelspec": {
   "display_name": "Python 3 (ipykernel)",
   "language": "python",
   "name": "python3"
  },
  "language_info": {
   "codemirror_mode": {
    "name": "ipython",
    "version": 3
   },
   "file_extension": ".py",
   "mimetype": "text/x-python",
   "name": "python",
   "nbconvert_exporter": "python",
   "pygments_lexer": "ipython3",
   "version": "3.8.16"
  }
 },
 "nbformat": 4,
 "nbformat_minor": 5
}
